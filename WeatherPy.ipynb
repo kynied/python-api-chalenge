{
 "cells": [
  {
   "cell_type": "code",
   "execution_count": 4,
   "metadata": {},
   "outputs": [],
   "source": [
    "# OBSERVATIONS:\n",
    "# 1. As we knew before, our analysis shows that temperatures rise (get hotter) as we approach the equator. \n",
    "# 2. Temperatures also go down as we move towards the northern hemisphere (strong, negative correlation) and rise as we move towards the southern (strong, positive correlation).\n",
    "# 3. Cloudiness, Humidity, and Wind Speed remain consistent with weak correlation across latitudes."
   ]
  },
  {
   "cell_type": "code",
   "execution_count": null,
   "metadata": {},
   "outputs": [],
   "source": [
    "# Dependencies & Setup\n",
    "import matplotlib.pyplot as plt\n",
    "import pandas as pd\n",
    "import numpy as np\n",
    "import requests\n",
    "import time \n",
    "from scipy.stats import linregress\n",
    "\n",
    "# Import API Key\n",
    "weather_api_key = \"179a824b84e49bc6a67011fe2add49c8\"\n",
    "\n",
    "# Incorporated citipy to determine city based on latitude and longitude \n",
    "from citipy import citipy\n",
    "\n",
    "# Output File (CSV)\n",
    "output_data_file = \"output_data/cities.csv\"\n",
    "\n",
    "# Range of latitudes and longitudes\n",
    "lat_range = (-90, 90)\n",
    "lng_range = (-180, 180)"
   ]
  },
  {
   "cell_type": "code",
   "execution_count": null,
   "metadata": {},
   "outputs": [],
   "source": [
    "# Generate Cities List \n",
    "# Lists for holding lat_lngs and cities \n",
    "lat_lngs = []\n",
    "cities = []\n",
    "\n",
    "# Create a set of random lat and lng combinations\n",
    "lats = np.random.uniform(lat_range[0], lat_range[1], size=1500)\n",
    "lngs = np.random.uniform(lng_range[0], lng_range[1], size=1500)\n",
    "lat_lngs = zip(lats, lngs)\n",
    "\n",
    "# Identify nearest city for each lat, lng combination\n",
    "for lat_lng in lat_lngs:\n",
    "    city = citipy.nearest_city(lat_lng[0], lat_lng[1]).city_name\n",
    "    # If the city is unique, then add it to our city list\n",
    "    if city not in cities:\n",
    "        cities.append(city)\n",
    "        \n",
    "# Print the city count to confirm sufficient count \n",
    "len(cities)"
   ]
  },
  {
   "cell_type": "code",
   "execution_count": null,
   "metadata": {},
   "outputs": [],
   "source": [
    "# Perform API Calls \n",
    "# Starting URL for Weather Map API Key \n",
    "url = \"http://api.openweathermap.org/data/2.5/weather?appid=179a824b84e49bc6a67011fe2add49c8&units=imperial\""
   ]
  },
  {
   "cell_type": "code",
   "execution_count": null,
   "metadata": {},
   "outputs": [],
   "source": [
    "# Empty Lists \n",
    "name_of_city = []\n",
    "country = []\n",
    "date = []\n",
    "lat = []\n",
    "lng = []\n",
    "temp = []\n",
    "humidity = []\n",
    "cloudiness = []\n",
    "wind_speed = []\n",
    "\n",
    "# Starting Points \n",
    "record = 1\n",
    "set = 1\n",
    "\n",
    "# Print 'Beginning Data Retrieval' Statement \n",
    "print(f\"Beginning Data Retrieval\")\n",
    "print(f\"-------------------------------\")\n",
    "\n",
    "# Create Loop through Cities in List\n",
    "for i, city in enumerate(cities):\n",
    "    # Group Cities in Sets of 50\n",
    "    if (i % 50 == 0 and i >= 50):\n",
    "        record = 0\n",
    "        set += 1\n",
    "    try:\n",
    "        response = requests.get(f\"{url}&q={city}\").json()\n",
    "        name_of_city.append(response[\"name\"])\n",
    "        country.append(response[\"sys\"][\"country\"])\n",
    "        date.append(response[\"dt\"])\n",
    "        lat.append(response[\"coord\"][\"lat\"])\n",
    "        lng.append(response[\"coord\"][\"lon\"])\n",
    "        temp.append(response[\"main\"][\"temp_max\"])\n",
    "        humidity.append(response[\"main\"][\"humidity\"])\n",
    "        cloudiness.append(response[\"clouds\"][\"all\"])\n",
    "        wind_speed.append(response[\"wind\"][\"speed\"])\n",
    "        print_city = response[\"name\"]\n",
    "        \n",
    "        print(\"Processing Record %s of Set %s | %s\" % (record, set, print_city))\n",
    "        \n",
    "        # Increase counter\n",
    "        record= record + 1\n",
    "        # Timer\n",
    "        time.sleep(1.00)\n",
    "        \n",
    "             \n",
    "    # No record found, Go to Next \n",
    "    except:\n",
    "        print(\"NO CITY FOUND. NEXT...\")\n",
    "    continue\n",
    "\n",
    "# Data Retrieval Complete\n",
    "print(\"----------------------------------\")\n",
    "print(\"Data Retrieval Complete           \")\n",
    "print(\"----------------------------------\")"
   ]
  },
  {
   "cell_type": "code",
   "execution_count": null,
   "metadata": {},
   "outputs": [],
   "source": [
    "# Convert Raw Data to Dataframe \n",
    "weather_dictionary = {\n",
    "    \"City\": name_of_city,\n",
    "    \"Lat\": lat, \n",
    "    \"Lng\": lng,\n",
    "    \"Max Temp\": temp, \n",
    "    \"Humidity\": humidity,\n",
    "    \"Cloudiness\": cloudiness, \n",
    "    \"Wind Speed\": wind_speed, \n",
    "    \"Country\": country,\n",
    "    \"Date\": date\n",
    "}\n",
    "\n",
    "# Data Frame\n",
    "weather_frame = pd.DataFrame(weather_dictionary)\n",
    "\n",
    "# Display Count \n",
    "weather_frame.count()"
   ]
  },
  {
   "cell_type": "code",
   "execution_count": null,
   "metadata": {},
   "outputs": [],
   "source": [
    "# Save Data Frame to CSV\n",
    "weather_frame.to_csv(\"output_csv/weather_frame.csv\")\n",
    "weather_frame.head()"
   ]
  },
  {
   "cell_type": "code",
   "execution_count": null,
   "metadata": {},
   "outputs": [],
   "source": [
    "# Latitude vs. Temperature Plot\n",
    "plt.scatter(weather_frame[\"Lat\"], weather_frame[\"Max Temp\"], facecolor=\"blue\", edgecolor=\"black\")\n",
    "plt.title(\"City Latitude vs. Max Temperature (04/01/20)\")\n",
    "plt.xlabel(\"Laitude\")\n",
    "plt.ylabel(\"Max Temperature (F)\")\n",
    "plt.grid(linestyle='-',linewidth=1,alpha = 0.5)\n",
    "plt.savefig(\"PNGs/City Latitude vs Max Temp.png\")"
   ]
  },
  {
   "cell_type": "code",
   "execution_count": null,
   "metadata": {},
   "outputs": [],
   "source": [
    "# Latitude vs. Humidity Plot\n",
    "plt.scatter(weather_frame[\"Lat\"], weather_frame[\"Humidity\"], facecolor=\"blue\", edgecolor=\"black\")\n",
    "plt.title(\"City Latitude vs. Humidity (04/01/20)\")\n",
    "plt.xlabel(\"Laitude\")\n",
    "plt.ylabel(\"Humidity (%)\")\n",
    "plt.grid(linestyle='-',linewidth=1,alpha = 0.5)\n",
    "plt.savefig(\"PNGs/City Latitude vs Humidity.png\")"
   ]
  },
  {
   "cell_type": "code",
   "execution_count": null,
   "metadata": {},
   "outputs": [],
   "source": [
    "# Latitude vs. Cloudiness Plot\n",
    "plt.scatter(weather_frame[\"Lat\"], weather_frame[\"Cloudiness\"], facecolor=\"blue\", edgecolor=\"black\")\n",
    "plt.title(\"City Latitude vs. Cloudiness (04/01/20)\")\n",
    "plt.xlabel(\"Laitude\")\n",
    "plt.ylabel(\"Cloudiness (%)\")\n",
    "plt.grid(linestyle='-',linewidth=1,alpha = 0.5)\n",
    "plt.savefig(\"PNGs/City Latitude vs Cloudiness.png\")"
   ]
  },
  {
   "cell_type": "code",
   "execution_count": null,
   "metadata": {},
   "outputs": [],
   "source": [
    "# Latitude vs. Wind Speed\n",
    "plt.scatter(weather_frame[\"Lat\"], weather_frame[\"Wind Speed\"], facecolor=\"blue\", edgecolor=\"black\")\n",
    "plt.title(\"City Latitude vs. Wind Speed (mph) (04/01/20)\")\n",
    "plt.xlabel(\"Laitude\")\n",
    "plt.ylabel(\"Wind Speed (%)\")\n",
    "plt.grid(linestyle='-',linewidth=1,alpha = 0.5)\n",
    "plt.savefig(\"PNGs/City Latitude vs Wind Speed.png\")"
   ]
  },
  {
   "cell_type": "code",
   "execution_count": null,
   "metadata": {},
   "outputs": [],
   "source": [
    "# Linear Regression \n",
    "# Northern & Southern Data Frames \n",
    "northern = weather_frame.loc[weather_frame[\"Lat\"] >= 0]\n",
    "southern = weather_frame.loc[weather_frame[\"Lat\"] < 0]"
   ]
  },
  {
   "cell_type": "code",
   "execution_count": null,
   "metadata": {},
   "outputs": [],
   "source": [
    "# Linear Regression Function for Scatter Plot\n",
    "import scipy.stats as st\n",
    "def linear_agression(x,y):\n",
    "    (slope, intercept, rvalue, pvalue, stderr) = linregress(x, y)\n",
    "    regress_values = x * slope + intercept\n",
    "    line_eq = \"y = \" + str(round(slope,2)) + \"x + \" + str(round(intercept,2))\n",
    "    print(line_eq)\n",
    "    plt.scatter(x, y)\n",
    "    plt.plot(x,regress_values,\"r-\")\n",
    "    print(f\"The r-squared is : {rvalue**2}\")"
   ]
  },
  {
   "cell_type": "code",
   "execution_count": null,
   "metadata": {},
   "outputs": [],
   "source": [
    "# Northern Hemisphere - Max Temp vs. Latitude Linear Regression\n",
    "equation = linear_agression(northern[\"Lat\"], northern[\"Max Temp\"])\n",
    "plt.title(\"Northern Hemisphere - Max Temp vs. Latitude Linear Regression\")\n",
    "plt.xlabel(\"Latitude\")\n",
    "plt.ylabel(\"Max Temp (F)\")\n",
    "plt.savefig(\"PNGs/Northern Hemisphere - Max Temp vs. Latitude Linear Regression.png\")"
   ]
  },
  {
   "cell_type": "code",
   "execution_count": null,
   "metadata": {},
   "outputs": [],
   "source": [
    "# Southern Hemisphere - Max Temp vs. Latitude Linear Regression\n",
    "equation = linear_agression(southern[\"Lat\"],southern[\"Max Temp\"])\n",
    "plt.title(\"Southern Hemisphere - Max Temp vs. Latitude Linear Regression\")\n",
    "plt.xlabel(\"Latitude\")\n",
    "plt.ylabel(\"Max Temp (F)\")\n",
    "plt.savefig(\"PNGs/Southern Hemisphere - Max Temp vs. Latitude Linear Regression.png\")"
   ]
  },
  {
   "cell_type": "code",
   "execution_count": null,
   "metadata": {},
   "outputs": [],
   "source": [
    "#  Northern Hemisphere - Humidity (%) vs. Latitude Linear Regression\n",
    "equation = linear_agression(northern[\"Lat\"],northern[\"Humidity\"])\n",
    "plt.title(\"Northern Hemisphere - Humidity (%) vs. Latitude Linear Regression\")\n",
    "plt.xlabel(\"Latitude\")\n",
    "plt.ylabel(\"Humidity (%)\")\n",
    "plt.savefig(\"PNGs/Northern Hemisphere - Humidity (%) vs. Latitude Linear Regression.png\")"
   ]
  },
  {
   "cell_type": "code",
   "execution_count": null,
   "metadata": {},
   "outputs": [],
   "source": [
    "# Southern Hemisphere - Humidity (%) vs. Latitude Linear Regression\n",
    "equation = linear_agression(southern[\"Lat\"],southern[\"Humidity\"])\n",
    "plt.title(\"Southern Hemisphere - Humidity (%) vs. Latitude Linear Regression\")\n",
    "plt.xlabel(\"Latitude\")\n",
    "plt.ylabel(\"Humidity (%)\")\n",
    "plt.savefig(\"PNGs/Southern Hemisphere - Humidity (%) vs. Latitude Linear Regression.png\")"
   ]
  },
  {
   "cell_type": "code",
   "execution_count": null,
   "metadata": {},
   "outputs": [],
   "source": [
    "# Northern Hemisphere - Cloudiness (%) vs. Latitude Linear Regression\n",
    "equation = linear_agression(northern[\"Lat\"],northern[\"Cloudiness\"])\n",
    "plt.title(\"Northern Hemisphere - Cloudiness (%) vs. Latitude Linear Regression\")\n",
    "plt.xlabel(\"Latitude\")\n",
    "plt.ylabel(\"Cloudiness (%)\")\n",
    "plt.savefig(\"PNGs/Northern Hemisphere - Cloudiness (%) vs. Latitude Linear Regression.png\")"
   ]
  },
  {
   "cell_type": "code",
   "execution_count": null,
   "metadata": {},
   "outputs": [],
   "source": [
    "# Southern Hemisphere - Cloudiness (%) vs. Latitude Linear Regression\n",
    "equation = linear_agression(southern[\"Lat\"],southern[\"Cloudiness\"])\n",
    "plt.title(\"Southern Hemisphere - Cloudiness (%) vs. Latitude Linear Regression\")\n",
    "plt.xlabel(\"Latitude\")\n",
    "plt.ylabel(\"Cloudiness (%)\")\n",
    "plt.savefig(\"PNGs/Southern Hemisphere - Cloudiness (%) vs. Latitude Linear Regression.png\")"
   ]
  },
  {
   "cell_type": "code",
   "execution_count": null,
   "metadata": {},
   "outputs": [],
   "source": [
    "# Northern Hemisphere - Wind Speed (mph) vs. Latitude Linear Regression \n",
    "equation = linear_agression(northern[\"Lat\"],northern[\"Wind Speed\"])\n",
    "plt.title(\"Northern Hemisphere - Wind Speed (mph) vs. Latitude Linear Regression\")\n",
    "plt.xlabel(\"Latitude\")\n",
    "plt.ylabel(\"Wind Speed (mph)\")\n",
    "plt.savefig(\"PNGs/Northern Hemisphere - Wind Speed vs. Latitude Linear Regression.png\")"
   ]
  },
  {
   "cell_type": "code",
   "execution_count": null,
   "metadata": {},
   "outputs": [],
   "source": [
    "# Southern Hemisphere - Wind Speed (mph) vs. Latitude Linear Regression\n",
    "equation = linear_agression(southern[\"Lat\"],southern[\"Wind Speed\"])\n",
    "plt.title(\"Southern Hemisphere - Wind Speed (mph) vs. Latitude Linear Regression\")\n",
    "plt.xlabel(\"Latitude\")\n",
    "plt.ylabel(\"Wind Speed (mph)\")\n",
    "plt.savefig(\"PNGs/Southern Hemisphere - Wind Speed vs. Latitude Linear Regression.png\")"
   ]
  }
 ],
 "metadata": {
  "kernelspec": {
   "display_name": "Python 3",
   "language": "python",
   "name": "python3"
  },
  "language_info": {
   "codemirror_mode": {
    "name": "ipython",
    "version": 3
   },
   "file_extension": ".py",
   "mimetype": "text/x-python",
   "name": "python",
   "nbconvert_exporter": "python",
   "pygments_lexer": "ipython3",
   "version": "3.7.6"
  }
 },
 "nbformat": 4,
 "nbformat_minor": 4
}
